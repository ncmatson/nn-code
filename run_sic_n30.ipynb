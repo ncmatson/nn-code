{
 "cells": [
  {
   "cell_type": "markdown",
   "metadata": {},
   "source": [
    "# notebook for doing sic with $n=30$"
   ]
  },
  {
   "cell_type": "code",
   "execution_count": 214,
   "metadata": {},
   "outputs": [
    {
     "name": "stdout",
     "output_type": "stream",
     "text": [
      "The autoreload extension is already loaded. To reload it, use:\n",
      "  %reload_ext autoreload\n"
     ]
    }
   ],
   "source": [
    "%load_ext autoreload\n",
    "%autoreload 2"
   ]
  },
  {
   "cell_type": "code",
   "execution_count": 215,
   "metadata": {},
   "outputs": [],
   "source": [
    "import numpy as np\n",
    "import matplotlib.pyplot as plt\n",
    "from utils import calculate_rate, create_model\n",
    "import os\n",
    "import json\n",
    "from types import SimpleNamespace\n",
    "import tensorflow as tf\n",
    "\n"
   ]
  },
  {
   "cell_type": "code",
   "execution_count": 216,
   "metadata": {},
   "outputs": [],
   "source": [
    "n=30\n",
    "L=50\n",
    "snr_set = np.linspace(-1.5,3,4)"
   ]
  },
  {
   "cell_type": "code",
   "execution_count": 217,
   "metadata": {},
   "outputs": [],
   "source": [
    "exp = 'mac_three_users_n30_fp'\n",
    "data_dir = '/scratch/users/cmatson/nn-codes/data/'\n",
    "experiment_dir = os.path.join(data_dir, f'experiment_{exp}')"
   ]
  },
  {
   "cell_type": "code",
   "execution_count": 218,
   "metadata": {},
   "outputs": [],
   "source": [
    "experiment_set = []\n",
    "mac_set=[]\n",
    "test = 0\n",
    "for snr1 in snr_set:\n",
    "    k1, _, r1, c1 = calculate_rate(k=None, n=n, SNR=snr1)\n",
    "    experiment_set.append((test, k1, snr1, snr1, 1)) # test, k, snr, snr_eff, h\n",
    "    i1=test\n",
    "    test+=1\n",
    "    \n",
    "    for snr2 in snr_set:\n",
    "        N0 = 10**(-snr1/10)\n",
    "\n",
    "        # calculate the scale factor and effective snr for U2 st we have same N0\n",
    "        h2 = N0*10**(snr2/10)\n",
    "        snr2_eff = 10*np.log10(h2/(1+N0))\n",
    "        \n",
    "        k2, _, r2, c2 = calculate_rate(k=None, n=n, SNR=snr2_eff)\n",
    "        if k2==0:\n",
    "            continue\n",
    "        experiment_set.append((test, k2, snr2, snr2_eff, h2))\n",
    "        i2=test\n",
    "        test+=1\n",
    "\n",
    "        for snr3 in snr_set:\n",
    "            # calculate the scale factor and effective snr for U3 st we have same N0\n",
    "            h3 = N0*10**(snr3/10)\n",
    "            snr3_eff = 10*np.log10(h3/(1+h2+N0))\n",
    "        \n",
    "            k3, _, r3, c3 = calculate_rate(k=None, n=n, SNR=snr3_eff)\n",
    "            if k3==0:\n",
    "                continue\n",
    "            experiment_set.append((test, k3, snr3, snr3_eff, h3))\n",
    "            i3=test\n",
    "            test+=1\n",
    "            \n",
    "            \n",
    "            mac_set.append((i1, i2, i3))"
   ]
  },
  {
   "cell_type": "markdown",
   "metadata": {},
   "source": [
    "### check the training"
   ]
  },
  {
   "cell_type": "code",
   "execution_count": 219,
   "metadata": {
    "scrolled": true
   },
   "outputs": [],
   "source": [
    "didnot = []\n",
    "performance_ber = []\n",
    "performance_gp = []\n",
    "for test, (t, k, snr, snr_eff, h) in enumerate(experiment_set):\n",
    "    if not os.path.exists(os.path.join(experiment_dir, f'test_{test}', 'val_history.npy')):\n",
    "        print(f' {test} did not complete')\n",
    "        didnot.append(test)\n",
    "        continue\n",
    "    hv = np.load(os.path.join(experiment_dir, f'test_{test}', 'val_history.npy'), allow_pickle=True).item()\n",
    "    \n",
    "        \n",
    "    performance_ber.append(1-max(hv['binary_accuracy']))\n",
    "    performance_gp.append((k/n)*max(hv['binary_accuracy']))\n",
    "\n",
    "\n",
    "    \n",
    "    if False:\n",
    "        fig, ax = plt.subplots(1,2, tight_layout=True)\n",
    "        ax[0].plot(hv['loss'], label='loss')\n",
    "        ax[0].set_xlim([0,101])\n",
    "        ax[0].set_title('loss')\n",
    "\n",
    "        ax[1].plot(1-np.array(hv['binary_accuracy']), 'r-', label='acc')\n",
    "        ax[1].set_xlim([0,101])\n",
    "#         ax[1].set_yscale('log')\n",
    "        ax[1].set_ylim([0,.15])\n",
    "        ax[1].set_title('acc')\n",
    "\n",
    "        fig.suptitle(f'{test}: {k}/{n} @ snr {snr_eff:.1f}')\n",
    "performance_ber = np.array(performance_ber)\n",
    "performance_gp = np.array(performance_gp)"
   ]
  },
  {
   "cell_type": "markdown",
   "metadata": {},
   "source": [
    "### do the mac tests"
   ]
  },
  {
   "cell_type": "code",
   "execution_count": 220,
   "metadata": {},
   "outputs": [],
   "source": [
    "def get_model(test, get_ds=False):\n",
    "    with open(os.path.join(experiment_dir, f'test_{test}', 'args.json')) as f:\n",
    "            args = json.load(f)\n",
    "            \n",
    "    args = SimpleNamespace(**args)\n",
    "    m = create_model(args=args, load_weights=True)\n",
    "    \n",
    "    m.compile(optimizer=tf.optimizers.Adam(),\n",
    "          loss=tf.losses.BinaryCrossentropy(from_logits=False),\n",
    "          metrics=tf.metrics.BinaryAccuracy())\n",
    "\n",
    "\n",
    "    if get_ds:\n",
    "        ds = create_dataset(args.k, L)\n",
    "        return m, ds, args\n",
    "    \n",
    "    return m, args\n",
    "    "
   ]
  },
  {
   "cell_type": "code",
   "execution_count": 221,
   "metadata": {},
   "outputs": [],
   "source": [
    "os.environ['NN_CODE_ENV'] = 'm2'"
   ]
  },
  {
   "cell_type": "code",
   "execution_count": 222,
   "metadata": {},
   "outputs": [],
   "source": [
    "from analyze_three_users_script_v2 import perform_sic"
   ]
  },
  {
   "cell_type": "code",
   "execution_count": 223,
   "metadata": {},
   "outputs": [],
   "source": [
    "iterations_set = [1, 2, 5, 10, 50, 100]\n",
    "# iterations_set = [1,2]"
   ]
  },
  {
   "cell_type": "code",
   "execution_count": 224,
   "metadata": {},
   "outputs": [],
   "source": [
    "RECALC=False\n",
    "if RECALC:\n",
    "    sic3_data = np.zeros((len(mac_set), len(iterations_set), 4, 3)) # mac_test, iterations, (it, ber, gp, mse), 3 users\n",
    "    sic2_data = np.zeros((len(mac_set), len(iterations_set), 4, 2)) # mac_test, iterations, (it, ber, gp, mse), 3 users\n",
    "\n",
    "\n",
    "    # for each mac experiment\n",
    "    for mac_test, (i1, i2, i3) in enumerate(mac_set):\n",
    "        # create the models and load the weights\n",
    "        m1, args1 = get_model(i1)\n",
    "        m2, args2 = get_model(i2)\n",
    "        m3, args3 = get_model(i3)\n",
    "\n",
    "        # construct the params for sic\n",
    "        k1 = args1.k\n",
    "        k2 = args2.k\n",
    "        k3 = args3.k\n",
    "\n",
    "        #test, k, snr, snr_eff, h\n",
    "        snr1 = args1.snr\n",
    "        snr2_eff=args2.snr\n",
    "        snr3_eff=args3.snr\n",
    "        snr2=experiment_set[i2][2]\n",
    "        snr3=experiment_set[i3][2]\n",
    "        h2 = experiment_set[i2][-1]\n",
    "        h3 = experiment_set[i3][-1]\n",
    "\n",
    "        sic_params = {'k1':k1, 'k2':k2, 'k3':k3, 'n':n, 'L':100,\n",
    "                      'snr1':snr1, 'h2':h2, 'h3':h3}\n",
    "\n",
    "        test_name = f'{mac_test}_{snr1}_{snr2}_{snr3}'.replace('-','n').replace('.','p')\n",
    "        print(f'mac3 test {mac_test} snrs ({snr1}, {snr2}, {snr3}) (single user tests {i1},{i2},{i3})')\n",
    "\n",
    "        # only do snr1!=snr2\n",
    "        if mac_test not in np.arange(0,len(mac_set),4):\n",
    "            continue\n",
    "        \n",
    "        # do iterations on three user mac\n",
    "        for it, iterations in enumerate(iterations_set):\n",
    "            print(f' {iterations} iterations')\n",
    "            mac3_ber, mac3_gp, mac3_mse = perform_sic(m1, m2, m3, sic_params, iterations=iterations)\n",
    "            sic3_data[mac_test, it] = [[iterations]*3, mac3_ber, mac3_gp, mac3_mse]\n",
    "            print(f'  3 user ber: {mac3_ber[0]:.3f}, {mac3_ber[1]:.3f}, {mac3_ber[2]:.3f}')\n",
    "\n",
    "            mac2_ber, mac2_gp, mac2_mse = perform_sic(m1, m2, -1, sic_params, iterations=iterations)\n",
    "            sic2_data[mac_test, it] = [[iterations]*2, mac2_ber, mac2_gp, mac2_mse]\n",
    "            print(f'  2 user ber: {mac2_ber[0]:.3f}, {mac2_ber[1]:.3f}')\n",
    "\n",
    "\n",
    "        print('')\n"
   ]
  },
  {
   "cell_type": "code",
   "execution_count": 225,
   "metadata": {},
   "outputs": [],
   "source": [
    "if RECALC:\n",
    "    np.save(os.path.join(experiment_dir, f'sic3_n{n}_data.npy'), sic3_data)\n",
    "    np.save(os.path.join(experiment_dir, f'sic2_n{n}_data.npy'), sic2_data)\n",
    "\n",
    "\n",
    "else:\n",
    "    sic3_data = np.load(os.path.join(experiment_dir, f'sic3_n{n}_data.npy'))\n",
    "    sic2_data = np.load(os.path.join(experiment_dir, f'sic2_n{n}_data.npy'))"
   ]
  }
 ],
 "metadata": {
  "kernelspec": {
   "display_name": "nn-codes",
   "language": "python",
   "name": "nn-codes"
  },
  "language_info": {
   "codemirror_mode": {
    "name": "ipython",
    "version": 3
   },
   "file_extension": ".py",
   "mimetype": "text/x-python",
   "name": "python",
   "nbconvert_exporter": "python",
   "pygments_lexer": "ipython3",
   "version": "3.8.6"
  }
 },
 "nbformat": 4,
 "nbformat_minor": 4
}
